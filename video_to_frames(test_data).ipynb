{
 "cells": [
  {
   "cell_type": "code",
   "execution_count": 12,
   "id": "7a0e7a2e-790e-4580-aaa1-ab35650d7d67",
   "metadata": {},
   "outputs": [
    {
     "name": "stdout",
     "output_type": "stream",
     "text": [
      "FPS видео: 29.984717269485483\n",
      "Готово! Сохранено 68 кадров (1 в секунду).\n"
     ]
    }
   ],
   "source": [
    "import cv2\n",
    "import os\n",
    "\n",
    "# Путь к видеофайлу или URL видеопотока\n",
    "video_path = \"IMG_0754.MOV\"  # или \"rtsp://...\" для IP-камер\n",
    "\n",
    "output_folder = \"frames\"\n",
    "os.makedirs(output_folder, exist_ok=True)\n",
    "\n",
    "cap = cv2.VideoCapture(video_path)\n",
    "\n",
    "fps = cap.get(cv2.CAP_PROP_FPS)\n",
    "print(f\"FPS видео: {fps}\")\n",
    "\n",
    "frame_count = 0\n",
    "saved_count = 0\n",
    "\n",
    "# Сохраняем каждый N-й кадр (1 раз в секунду)\n",
    "n = int(fps)  # если fps = 30, то n = 30\n",
    "\n",
    "while True:\n",
    "    success, frame = cap.read()\n",
    "    if not success:\n",
    "        break\n",
    "\n",
    "    if frame_count % n == 0:\n",
    "        frame_filename = os.path.join(output_folder, f\"frame_{saved_count:04d}.jpg\")\n",
    "        cv2.imwrite(frame_filename, frame)\n",
    "        saved_count += 1\n",
    "\n",
    "    frame_count += 1\n",
    "\n",
    "cap.release()\n",
    "print(f\"Готово! Сохранено {saved_count} кадров (1 в секунду).\")"
   ]
  },
  {
   "cell_type": "code",
   "execution_count": null,
   "id": "b3b4cfcd-c4fb-4758-aac0-e750317a7ba2",
   "metadata": {},
   "outputs": [],
   "source": []
  }
 ],
 "metadata": {
  "kernelspec": {
   "display_name": "Python 3 (ipykernel)",
   "language": "python",
   "name": "python3"
  },
  "language_info": {
   "codemirror_mode": {
    "name": "ipython",
    "version": 3
   },
   "file_extension": ".py",
   "mimetype": "text/x-python",
   "name": "python",
   "nbconvert_exporter": "python",
   "pygments_lexer": "ipython3",
   "version": "3.12.4"
  }
 },
 "nbformat": 4,
 "nbformat_minor": 5
}
